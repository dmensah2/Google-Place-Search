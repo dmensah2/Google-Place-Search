{
 "cells": [
  {
   "cell_type": "code",
   "execution_count": 1,
   "metadata": {},
   "outputs": [],
   "source": [
    "#Author: Deidre Mensah\n",
    "#Date: 06/09/2019\n",
    "#Get places according to your search query using Google Places API\n",
    "\n",
    "#import modules\n",
    "import requests,json\n",
    "import csv\n",
    "import time\n",
    "import requests_cache\n",
    "from more_itertools import unique_everseen"
   ]
  },
  {
   "cell_type": "markdown",
   "metadata": {},
   "source": [
    "<blockquote> <br> The following cell will create a new file called \"Place_Search_orig.csv\" where your results will output to. <br><b>You may need to run the following cell twice because there may be a lock on the file when initially run.</b></blockquote>"
   ]
  },
  {
   "cell_type": "code",
   "execution_count": 3,
   "metadata": {},
   "outputs": [],
   "source": [
    "#opens your csv\n",
    "output = open('Place_Search_orig.csv', \"w\", newline='')\n",
    "\n",
    "#defines fields of csv\n",
    "writer = csv.DictWriter(output, fieldnames=[\"Name\", \"Address\", \"Lat\", \"Long\"])\n",
    "\n",
    "#writes the field names to a csv\n",
    "writer.writeheader()"
   ]
  },
  {
   "cell_type": "code",
   "execution_count": 4,
   "metadata": {},
   "outputs": [],
   "source": [
    "# enter your api key here\n",
    "api_key = 'YOUR_API_GOES_HERE'"
   ]
  },
  {
   "cell_type": "code",
   "execution_count": 5,
   "metadata": {},
   "outputs": [],
   "source": [
    "#create database to store cached results to\n",
    "requests_cache.install_cache(\"results_cache\")"
   ]
  },
  {
   "cell_type": "markdown",
   "metadata": {},
   "source": [
    "<blockquote> After running the following cell, you will be prompted to enter your query.<br> A file named \"Place_Search_final.csv\" will be be created in the directory where you saved this script.<b><br>You can run this cell for multiple times for different searches before you delete the duplicates and download the csv in the final cell.</blockquote></b>"
   ]
  },
  {
   "cell_type": "code",
   "execution_count": 6,
   "metadata": {},
   "outputs": [
    {
     "name": "stdout",
     "output_type": "stream",
     "text": [
      "Search query: barry's bootcamp\n",
      "Places downloading...\n",
      "Barry's UES, 1216 2nd Ave, New York, NY 10065, United States, 40.7634988, -73.9620226\n",
      "Barry's Park Avenue South, 107 E 27th St, New York, NY 10016, United States, 40.7425935, -73.9839989\n",
      "Barry's Chelsea, 135 W 20th St, New York, NY 10011, United States, 40.74185200000001, -73.995577\n",
      "Barry's Noho, 419 Lafayette St, New York, NY 10003, United States, 40.72861109999999, -73.9922222\n",
      "Barry's Scarsdale, 1142 Wilmot Rd, Scarsdale, NY 10583, United States, 40.9851586, -73.7767483\n",
      "Barry's TriBeCa, 1 York St, New York, NY 10013, United States, 40.7211592, -74.00552669999999\n",
      "Barry's UWS, 72-74 W 69th St, New York, NY 10023, United States, 40.77522159999999, -73.9799151\n",
      "Barry's Bootcamp Norwalk, Norwalk, CT 06854, United States, 41.1046669, -73.4190062\n",
      "PLACES HAVE BEEN DOWNLOADED.\n"
     ]
    }
   ],
   "source": [
    "# url we make a request from\n",
    "url = \"https://maps.googleapis.com/maps/api/place/textsearch/json?\"\n",
    "\n",
    "# query to search google by\n",
    "query = input('Search query: ')\n",
    "\n",
    "# return response object from first page of results\n",
    "response = requests.get(url + 'query=' + query + '&key=' + api_key)\n",
    "\n",
    "# pause for 2 seconds to give time for page to be accessible\n",
    "time.sleep(2)\n",
    "\n",
    "# json format data into python format data\n",
    "results = response.json()\n",
    "\n",
    "#gets results dictionary that was nested in the list of other dictionaries based on key value\n",
    "results_all = results[\"results\"]\n",
    "\n",
    "print(\"Places downloading...\")\n",
    "\n",
    "#if we only have 1 page of results\n",
    "if \"next_page_token\" not in results:\n",
    "    for result in results_all:\n",
    "        name = (result[\"name\"])\n",
    "        address = (result[\"formatted_address\"])\n",
    "        lat = str((result[\"geometry\"][\"location\"][\"lat\"]))\n",
    "        long = str((result[\"geometry\"][\"location\"][\"lng\"]))\n",
    "        row = {\"Name\": str(name), \"Address\": str(address), \"Lat\": str(lat), \"Long\": str(long)}\n",
    "        writer.writerow(row)\n",
    "        print (str(name) + \", \" + str(address) + \", \" + str(lat) + \", \" + str(long))\n",
    "        \n",
    "#if there is a 2nd page we can acccess\n",
    "elif \"next_page_token\" in results:\n",
    "    nextpagetoken = results[\"next_page_token\"]\n",
    "    # get the response object of the 2nd page of results\n",
    "    response_2 = requests.get(url + 'pagetoken=' + nextpagetoken + '&key=' + api_key)\n",
    "    # pause for 2 seconds to give time for page to be accessible\n",
    "    time.sleep(2)\n",
    "    # convert 2nd page to json\n",
    "    results_2 = response_2.json()\n",
    "    # get result dictionary\n",
    "    results_all_2 = results_2['results']\n",
    "    \n",
    "    # all of our dictionaries from our results will be added to this list\n",
    "    total_results = []\n",
    "    # extends the first page of our response which a list of dictionaries by dictionaries from page 2\n",
    "    results_all.extend(results_all_2)\n",
    "\n",
    "    # grabs each dictionary in the list\n",
    "    for dict in results_all:\n",
    "        # if a dictionary doesnt appear in the list\n",
    "        if dict not in total_results:\n",
    "            # appends dictionary to list\n",
    "            total_results.append(dict)\n",
    "\n",
    "    for result in results_all:\n",
    "        name = (result[\"name\"])\n",
    "        address = (result[\"formatted_address\"])\n",
    "        lat = str((result[\"geometry\"][\"location\"][\"lat\"]))\n",
    "        long = str((result[\"geometry\"][\"location\"][\"lng\"]))\n",
    "        row = {\"Name\": name, \"Address\": address, \"Lat\": lat, \"Long\": long}\n",
    "        writer.writerow(row)\n",
    "        \n",
    "    #if there is no 3rd page we can access\n",
    "    if \"next_page_token\" not in results_2:\n",
    "        response_2 = requests.get(url + 'pagetoken=' + nextpagetoken + '&key=' + api_key)\n",
    "        time.sleep(2)\n",
    "        results_2 = response_2.json()\n",
    "        results_all_2 = results_2['results']\n",
    "        total_results = []\n",
    "        results_all.extend(results_all_2)\n",
    "\n",
    "        for dict in results_all:\n",
    "            if dict not in total_results:\n",
    "                total_results.append(dict)\n",
    "\n",
    "        for result in results_all:\n",
    "            name = (result['name'])\n",
    "            address = (result[\"formatted_address\"])\n",
    "            lat = str((result[\"geometry\"][\"location\"][\"lat\"]))\n",
    "            long = str((result[\"geometry\"][\"location\"][\"lng\"]))\n",
    "            row = {\"Name\": name, \"Address\": address, \"Lat\": lat, \"Long\": long}\n",
    "            writer.writerow(row)\n",
    "            print (str(name) + \", \" + str(address) + \", \" + str(lat) + \", \" + str(long))\n",
    "            \n",
    "    #if there is a 3rd page we can access\n",
    "    elif \"next_page_token\" in results_2:\n",
    "        # get next page token from dictionary\n",
    "        nextpagetoken_2 = results_2[\"next_page_token\"]\n",
    "        # get the response object of the 3rd page of results - NO NEXT PAGE TOKEN BECAUSE YOU CAN ONLY REQUEST UP TO 60\n",
    "        response_3 = requests.get(url + 'pagetoken=' + nextpagetoken_2 + '&key=' + api_key)\n",
    "        time.sleep(2)\n",
    "        results_3 = response_3.json()\n",
    "        results_all_3 = results_3['results']\n",
    "\n",
    "        # extending the list of dictionaries again with the third page of dictionaries\n",
    "        total_results.extend(results_all_3)\n",
    "\n",
    "        # grabs each dictionary in the list\n",
    "        for dict in total_results:\n",
    "            #if a dictionary doesnt exist in the list\n",
    "            if dict not in total_results:\n",
    "                # appends dictionaries by what we extended our list by\n",
    "                total_results.append(dict)\n",
    "\n",
    "        for result in total_results:\n",
    "            name = (result['name'])\n",
    "            address = (result[\"formatted_address\"])\n",
    "            lat = str((result[\"geometry\"][\"location\"][\"lat\"]))\n",
    "            long = str((result[\"geometry\"][\"location\"][\"lng\"]))\n",
    "            row = {\"Name\": str(name), \"Address\": str(address), \"Lat\": str(lat), \"Long\": str(long)}\n",
    "            writer.writerow(row)\n",
    "            print (str(name) + \", \" + str(address) + \", \" + str(lat) + \", \" + str(long))\n",
    "\n",
    "print(\"PLACES HAVE BEEN DOWNLOADED.\")"
   ]
  },
  {
   "cell_type": "markdown",
   "metadata": {},
   "source": [
    "<blockquote> <br> <b>You may need to run the following cell twice to delete duplicates and output into final csv.</b></blockquote>"
   ]
  },
  {
   "cell_type": "code",
   "execution_count": 8,
   "metadata": {},
   "outputs": [
    {
     "name": "stdout",
     "output_type": "stream",
     "text": [
      "csv download complete\n"
     ]
    }
   ],
   "source": [
    "#deletes duplicates\n",
    "with open('Place_Search_orig.csv','r') as file, open('Place_Search_final.csv','w') as out_file:\n",
    "    out_file.writelines(unique_everseen(file))\n",
    "    \n",
    "output.close()\n",
    "\n",
    "print (\"csv download complete\")"
   ]
  },
  {
   "cell_type": "code",
   "execution_count": null,
   "metadata": {},
   "outputs": [],
   "source": []
  }
 ],
 "metadata": {
  "kernelspec": {
   "display_name": "Python 3",
   "language": "python",
   "name": "python3"
  },
  "language_info": {
   "codemirror_mode": {
    "name": "ipython",
    "version": 3
   },
   "file_extension": ".py",
   "mimetype": "text/x-python",
   "name": "python",
   "nbconvert_exporter": "python",
   "pygments_lexer": "ipython3",
   "version": "3.6.9"
  }
 },
 "nbformat": 4,
 "nbformat_minor": 2
}
